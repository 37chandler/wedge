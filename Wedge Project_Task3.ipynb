{
 "cells": [
  {
   "cell_type": "markdown",
   "metadata": {},
   "source": [
    "# Task3 Building Summary Tables\n",
    "\n",
    "In this task,I will build a single SQLite database via Python (in a .db file) containing three tables:\n",
    "1.\tSales by date by hour: By calendar date (YYYY-MM-DD) and hour of the day, determine the total spend in the store, the number of transactions, and a count of the number of items .\n",
    "2.\tSales by owner by year by month: A file that has the following columns: card_no, year, month, sales, transactions, and items.\n",
    "3.\tSales by product description by year by month: A file that has the following columns: upc, description, department number, department name, year, month, sales, transactions, and items.\n",
    "\n",
    "**Notes: Task3 is based on the task2, which means I used the data of my own sample owners to do this summary task. If I made a wrong understand, please let me know.**\n",
    "\n",
    "**Notes: Final Sample files are uploaded into the GBQ, access [here](https://console.cloud.google.com/bigquery?project=hong-wedge&p=hong-wedge&d=transactions&t=sample_owners_records&page=table)!**"
   ]
  },
  {
   "cell_type": "code",
   "execution_count": 1,
   "metadata": {},
   "outputs": [],
   "source": [
    "import os\n",
    "import io\n",
    "import csv\n",
    "from zipfile import ZipFile\n",
    "\n",
    "from google.cloud import bigquery\n",
    "from google.oauth2 import service_account"
   ]
  },
  {
   "cell_type": "markdown",
   "metadata": {},
   "source": [
    "## Connects to GBQ instance.\n"
   ]
  },
  {
   "cell_type": "code",
   "execution_count": 54,
   "metadata": {},
   "outputs": [],
   "source": [
    "# GBQ Setting\n",
    "service_path = \"./\"\n",
    "service_file = 'Hong-Wedge-8a5b036bb32c.json' \n",
    "gbq_proj_id = 'hong-wedge' \n",
    "\n",
    "private_key =service_path + service_file\n",
    "credentials = service_account.Credentials.from_service_account_file(service_path + service_file)\n",
    "client = bigquery.Client(credentials = credentials, project=gbq_proj_id)"
   ]
  },
  {
   "cell_type": "markdown",
   "metadata": {},
   "source": [
    "## Part1: Generate the summary data files\n",
    "1. Generate summary tables via queries in Google Big Query\n",
    "2. Export the text files, and store them locally on the machine. \n",
    "\n",
    "Actually, this part is a little similar with the task2\n",
    "\n",
    "Reference: [Date Process in GBQ](https://cloud.google.com/bigquery/docs/reference/standard-sql/datetime_functions#datetime)"
   ]
  },
  {
   "cell_type": "code",
   "execution_count": 35,
   "metadata": {},
   "outputs": [],
   "source": [
    "def generate_data(query,fields,file_name):\n",
    "    ## Define the query_job to execute\n",
    "    query_job = client.query(\n",
    "    query,\n",
    "    location=\"US\",)\n",
    "    \n",
    "    ## execute and print the data\n",
    "    with open(file_name, \"w\",encoding=\"utf-8\") as text_file:\n",
    "        text_file.write(\",\".join(fields)+\"\\n\")\n",
    "        for idx, row in enumerate(query_job) :\n",
    "            record=[]\n",
    "            for i in range(0,len(row)):\n",
    "                record.append(str(row[i]))\n",
    "            output=\",\".join(record)\n",
    "            text_file.write(output+\"\\n\")\n",
    "    print(\"Done!\")\n",
    "    "
   ]
  },
  {
   "cell_type": "markdown",
   "metadata": {},
   "source": [
    "#### Sales by date by hour \n",
    "By calendar date (YYYY-MM-DD) and hour of the day, determine the total spend in the store, the number of transactions, and a count of the number of items ."
   ]
  },
  {
   "cell_type": "code",
   "execution_count": 41,
   "metadata": {
    "scrolled": true
   },
   "outputs": [
    {
     "name": "stdout",
     "output_type": "stream",
     "text": [
      "Done!\n"
     ]
    }
   ],
   "source": [
    "query = (\n",
    "    \"SELECT EXTRACT(DATE FROM datetime) as day,EXTRACT(HOUR FROM datetime) as hour,\"\n",
    "    \"       sum(total) as spends,\"\n",
    "    \"       count(distinct(date(datetime) || register_no ||emp_no || trans_no)) as transactions,\"\n",
    "    \"       sum(CASE WHEN (trans_status = 'V' or trans_status = 'R') THEN -1 ELSE 1 END) as items \"\n",
    "    \"FROM `hong-wedge.transactions.sample_owners_records` \"\n",
    "    \"WHERE card_no!=3 and trans_status in('',' ') \"\n",
    "    \"GROUP BY Day, Hour \"\n",
    "    \"ORDER BY Day, Hour \"\n",
    ")\n",
    "\n",
    "fields=[\"day\",\"hour\",\"spends\",\"transactions\",\"items\"]\n",
    "\n",
    "generate_data(query,fields,\"sales_by_date_by_hour.csv\")"
   ]
  },
  {
   "cell_type": "markdown",
   "metadata": {},
   "source": [
    "#### Sales by owner by year by month\n",
    "A file that has the following columns: card_no, year, month, sales, transactions, and items."
   ]
  },
  {
   "cell_type": "code",
   "execution_count": 42,
   "metadata": {},
   "outputs": [
    {
     "name": "stdout",
     "output_type": "stream",
     "text": [
      "Done!\n"
     ]
    }
   ],
   "source": [
    "# SELECT card_no,EXTRACT(YEAR FROM datetime) as year,EXTRACT(MONTH FROM datetime) as month,sum(total) as sales, count(trans_no) as NumberOfTransactions,count(trans_status) as NumberOfItems\n",
    "# FROM `hong-wedge.transactions.transArchive_201104` \n",
    "# WHERE card_no!=3 and trans_status in(\"\",\" \")\n",
    "# GROUP BY card_no, year, month\n",
    "# ORDER BY card_no, year, month\n",
    "\n",
    "\n",
    "query = (\n",
    "    \"SELECT card_no,EXTRACT(YEAR FROM datetime) as year,EXTRACT(MONTH FROM datetime) as month,\"\n",
    "    \"       sum(total) as spends,\"\n",
    "    \"       count(distinct(date(datetime) || register_no ||emp_no || trans_no)) as transactions,\"\n",
    "    \"       sum(CASE WHEN (trans_status = 'V' or trans_status = 'R') THEN -1 ELSE 1 END) as items \"\n",
    "    \"FROM `hong-wedge.transactions.sample_owners_records` \"\n",
    "    \"WHERE trans_status in('',' ') \"\n",
    "    \"GROUP BY card_no, year, month \"\n",
    "    \"ORDER BY card_no, year, month \"\n",
    ")\n",
    "\n",
    "fields=[\"card_no\",\"year\",\"month\",\"sales\",\"transactions\",\"items\"]\n",
    "\n",
    "generate_data(query,fields,\"sales_by_owner_by_year_by_month.csv\")"
   ]
  },
  {
   "cell_type": "markdown",
   "metadata": {},
   "source": [
    "#### Sales by product description by year by month\n",
    "A file that has the following columns: upc, description, department number, department name, year, month, sales, transactions, and items."
   ]
  },
  {
   "cell_type": "code",
   "execution_count": 43,
   "metadata": {},
   "outputs": [
    {
     "name": "stdout",
     "output_type": "stream",
     "text": [
      "Done!\n"
     ]
    }
   ],
   "source": [
    "# SELECT upc,description,department,dept_name as department_name,EXTRACT(YEAR FROM datetime) as year,EXTRACT(MONTH FROM datetime) as month,sum(total) as sales, count(trans_no) as transactions,count(trans_status) as items\n",
    "# FROM `hong-wedge.transactions.transArchive_201104` join ` department_lookup` on department \n",
    "# WHERE card_no!=3 and trans_status in(\"\",\" \")\n",
    "# GROUP BY upc,description,department,department_name year, month\n",
    "# ORDER BY upc,description,department,department_name year, month\n",
    "\n",
    "query = (\n",
    "    \"SELECT upc,description,`hong-wedge.transactions.sample_owners_records`.department,dept_name as department_name,\"\n",
    "    \"       EXTRACT(YEAR FROM datetime) as year,EXTRACT(MONTH FROM datetime) as month,\"\n",
    "    \"       sum(total) as spends,\"\n",
    "    \"       count(distinct(date(datetime) || register_no ||emp_no || trans_no)) as transactions,\"\n",
    "    \"       sum(CASE WHEN (trans_status = 'V' or trans_status = 'R') THEN -1 ELSE 1 END) as items \"\n",
    "    \"FROM `hong-wedge.transactions.sample_owners_records` join `hong-wedge.transactions.department_lookup` \"\n",
    "    \"on `hong-wedge.transactions.sample_owners_records`.department = `hong-wedge.transactions.department_lookup`.department \"\n",
    "    \"WHERE trans_status in('',' ') \"\n",
    "    \"GROUP BY upc,description,department,department_name, year, month \"\n",
    "    \"ORDER BY upc,description,department,department_name, year, month \"\n",
    ")\n",
    "\n",
    "fields=[\"upc\",\"description\",\"department\",\"department_name\",\"year\",\"month\",\"sales\",\"transactions\",\"items\"]\n",
    "\n",
    "generate_data(query,fields,\"sales_by_product_by_year_by_month.csv\")"
   ]
  },
  {
   "cell_type": "markdown",
   "metadata": {},
   "source": [
    "## Part2: Create Database\n",
    "1. Creates a single SQLite database \n",
    "2. Creates the tables\n",
    "3. Fills those tables. "
   ]
  },
  {
   "cell_type": "code",
   "execution_count": 46,
   "metadata": {},
   "outputs": [],
   "source": [
    "import sqlite3\n",
    "db = sqlite3.connect(\"wedge_summary.db\")\n",
    "cur = db.cursor()"
   ]
  },
  {
   "cell_type": "code",
   "execution_count": 50,
   "metadata": {},
   "outputs": [
    {
     "name": "stdout",
     "output_type": "stream",
     "text": [
      "[('2010-01-01', 9, 41.99, 1.0, 5.0), ('2010-01-01', 10, 4.77, 1.0, 3.0), ('2010-01-01', 11, 281.79000000000025, 3.0, 83.0), ('2010-01-01', 13, 26.07, 2.0, 8.0), ('2010-01-01', 14, 34.4, 1.0, 9.0), ('2010-01-01', 15, 16.75, 1.0, 3.0), ('2010-01-01', 17, 17.15, 3.0, 7.0), ('2010-01-01', 19, 3.37, 1.0, 1.0), ('2010-01-01', 20, 52.400000000000006, 1.0, 17.0), ('2010-01-01', 21, 19.86, 2.0, 6.0)]\n"
     ]
    }
   ],
   "source": [
    "#fields=[\"day\",\"hour\",\"spends\",\"transactions\",\"items\"]\n",
    "\n",
    "cur.execute('''DROP TABLE IF EXISTS sales_by_date_by_hour''')\n",
    "cur.execute('''CREATE TABLE sales_by_date_by_hour (\n",
    "    day TIMESTAMP, \n",
    "    Hour INTEGER, \n",
    "    spends REAL,\n",
    "    transactions REAL,\n",
    "    items REAL)''')\n",
    "\n",
    "with open(\"sales_by_date_by_hour.csv\",'r', encoding=\"utf-8\") as ifile :\n",
    "    next(ifile)\n",
    "    for idx, line in enumerate(ifile.readlines()) :\n",
    "        line = line.strip().split(\",\")\n",
    "        cur.execute('''\n",
    "            INSERT INTO sales_by_date_by_hour(day,hour,spends,transactions,items)\n",
    "            VALUES (?,?,?,?,?)''', line)        \n",
    "db.commit()\n",
    "\n",
    "test = cur.execute('''SELECT * FROM sales_by_date_by_hour LIMIT 10''')\n",
    "print(list(test))"
   ]
  },
  {
   "cell_type": "code",
   "execution_count": 51,
   "metadata": {},
   "outputs": [
    {
     "name": "stdout",
     "output_type": "stream",
     "text": [
      "[(10037, 2010, 1, 133.57999999999998, 5.0, 26.0), (10037, 2010, 2, 166.99999999999994, 5.0, 44.0), (10037, 2010, 3, 178.74999999999994, 8.0, 42.0), (10037, 2010, 4, 117.63, 7.0, 35.0), (10037, 2010, 5, 37.809999999999995, 3.0, 11.0), (10037, 2010, 6, 200.53, 11.0, 58.0), (10037, 2010, 7, 174.33999999999995, 7.0, 45.0), (10037, 2010, 8, 47.170000000000016, 8.0, 76.0), (10037, 2010, 9, -6.217248937900877e-15, 3.0, 34.0), (10037, 2010, 10, 2.1760371282653068e-14, 4.0, 44.0)]\n"
     ]
    }
   ],
   "source": [
    "#fields=[\"card_no\",\"year\",\"month\",\"sales\",\"transactions\",\"items\"]\n",
    "cur.execute('''DROP TABLE IF EXISTS sales_by_owner_by_year_by_month''')\n",
    "cur.execute('''CREATE TABLE sales_by_owner_by_year_by_month (\n",
    "    card_no INTEGER, \n",
    "    year INTEGER, \n",
    "    month INTEGER,\n",
    "    sales REAL,\n",
    "    transactions REAL,\n",
    "    items REAL)''')\n",
    "\n",
    "with open(\"sales_by_owner_by_year_by_month.csv\",'r', encoding=\"utf-8\") as ifile :\n",
    "    next(ifile)\n",
    "    for idx, line in enumerate(ifile.readlines()) :\n",
    "        line = line.strip().split(\",\")\n",
    "        cur.execute('''\n",
    "            INSERT INTO sales_by_owner_by_year_by_month(card_no,year,month,sales,transactions,items)\n",
    "            VALUES (?,?,?,?,?,?)''', line)        \n",
    "db.commit()\n",
    "\n",
    "test = cur.execute('''SELECT * FROM sales_by_owner_by_year_by_month LIMIT 10''')\n",
    "print(list(test))"
   ]
  },
  {
   "cell_type": "code",
   "execution_count": 52,
   "metadata": {},
   "outputs": [
    {
     "name": "stdout",
     "output_type": "stream",
     "text": [
      "[('0.04DP9', 'GEN MERCH', 9, 'GEN MERCH', 2014, 7, 2.0, 1.0, 1.0), ('0.07DP14', 'JUICE BAR', 14, 'JUICE BAR', 2015, 10, 0.07, 1.0, 1.0), ('0.10DP3', 'BULK', 3, 'BULK', 2010, 10, 0.1, 1.0, 1.0), ('0.11DP4', 'REF GROCERY', 4, 'REF GROCERY', 2012, 11, 0.11, 1.0, 1.0), ('0.13DP12', 'HERBS&SPICES', 12, 'HERBS&SPICES', 2016, 2, 0.13, 1.0, 1.0), ('0.14DP1', 'PACKAGED GROCERY', 1, 'PACKAGED GROCERY', 2010, 6, 0.14, 1.0, 1.0), ('0.14DP1', 'PACKAGED GROCERY', 1, 'PACKAGED GROCERY', 2011, 8, 0.14, 1.0, 1.0), ('0.14DP9', 'GEN MERCH', 9, 'GEN MERCH', 2016, 3, 0.14, 1.0, 1.0), ('0.15DP9', 'GEN MERCH', 9, 'GEN MERCH', 2010, 12, 1.5, 1.0, 1.0), ('0.15DP9', 'GEN MERCH', 9, 'GEN MERCH', 2012, 1, 0.15, 1.0, 1.0)]\n"
     ]
    }
   ],
   "source": [
    "#fields=[\"upc\",\"description\",\"department\",\"department_name\",\"year\",\"month\",\"sales\",\"transactions\",\"items\"]\n",
    "cur.execute('''DROP TABLE IF EXISTS sales_by_product_by_year_by_month''')\n",
    "cur.execute('''CREATE TABLE sales_by_product_by_year_by_month (\n",
    "    upc INTEGER, \n",
    "    description TEXT,\n",
    "    department INTEGER,\n",
    "    department_name TEXT,\n",
    "    year INTEGER,\n",
    "    month INTEGER,\n",
    "    sales REAL,\n",
    "    transactions REAL,\n",
    "    items REAL)''')\n",
    "\n",
    "with open(\"sales_by_product_by_year_by_month.csv\",'r', encoding=\"utf-8\") as ifile :\n",
    "    next(ifile)\n",
    "    for idx, line in enumerate(ifile.readlines()) :\n",
    "        line = line.strip().split(\",\")\n",
    "        cur.execute('''\n",
    "            INSERT INTO sales_by_product_by_year_by_month(upc,description,department,department_name,year,month,sales,transactions,items)\n",
    "            VALUES (?,?,?,?,?,?,?,?,?)''', line)        \n",
    "db.commit()\n",
    "\n",
    "test = cur.execute('''SELECT * FROM sales_by_product_by_year_by_month LIMIT 10''')\n",
    "print(list(test))"
   ]
  },
  {
   "cell_type": "code",
   "execution_count": 53,
   "metadata": {},
   "outputs": [],
   "source": [
    "db.close()"
   ]
  }
 ],
 "metadata": {
  "kernelspec": {
   "display_name": "Python 3",
   "language": "python",
   "name": "python3"
  },
  "language_info": {
   "codemirror_mode": {
    "name": "ipython",
    "version": 3
   },
   "file_extension": ".py",
   "mimetype": "text/x-python",
   "name": "python",
   "nbconvert_exporter": "python",
   "pygments_lexer": "ipython3",
   "version": "3.8.3"
  }
 },
 "nbformat": 4,
 "nbformat_minor": 4
}

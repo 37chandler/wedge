{
 "cells": [
  {
   "cell_type": "markdown",
   "metadata": {},
   "source": [
    "# Task2 A Sample of Owners\n",
    "\n",
    "A python script that handles the following tasks: \n",
    "1.\tConnects to your GBQ instance.\n",
    "2.\tBuilds a list of owners. \n",
    "3.\tTakes a sample of the owners. \n",
    "4.\tExtracts all records associated with those owners and writes them to a local text file. \n",
    "\n",
    "**Notes: Final Sample files are uploaded into the GBQ, access [here](https://console.cloud.google.com/bigquery?project=hong-wedge&p=hong-wedge&d=transactions&t=sample_owners_records&page=table)!**"
   ]
  },
  {
   "cell_type": "code",
   "execution_count": 4,
   "metadata": {},
   "outputs": [],
   "source": [
    "import os\n",
    "import io\n",
    "import csv\n",
    "from zipfile import ZipFile\n",
    "\n",
    "from google.cloud import bigquery\n",
    "from google.oauth2 import service_account"
   ]
  },
  {
   "cell_type": "markdown",
   "metadata": {},
   "source": [
    "## Connects to GBQ instance.\n"
   ]
  },
  {
   "cell_type": "code",
   "execution_count": 5,
   "metadata": {},
   "outputs": [],
   "source": [
    "# GBQ Setting\n",
    "service_path = \"./\"\n",
    "service_file = 'Hong-Wedge-8a5b036bb32c.json' \n",
    "gbq_proj_id = 'hong-wedge' \n",
    "\n",
    "private_key =service_path + service_file\n",
    "credentials = service_account.Credentials.from_service_account_file(service_path + service_file)\n",
    "client = bigquery.Client(credentials = credentials, project=gbq_proj_id)"
   ]
  },
  {
   "cell_type": "markdown",
   "metadata": {},
   "source": [
    "## Builds a list of owners. \n",
    "This step search all of the owners in the records except for `card_no=3`. To achieve this, make use of the GBQ ability of [Querying multiple tables using a wildcard table](https://cloud.google.com/bigquery/docs/querying-wildcard-tables)\n"
   ]
  },
  {
   "cell_type": "code",
   "execution_count": 19,
   "metadata": {},
   "outputs": [
    {
     "name": "stdout",
     "output_type": "stream",
     "text": [
      "We have total 27207 owners\n"
     ]
    }
   ],
   "source": [
    "query = (\n",
    "    \"SELECT distinct card_no \"\n",
    "    \"FROM `hong-wedge.transactions.transArchive_*` \"\n",
    "    \"WHERE card_no != 3 \"\n",
    ")\n",
    "query_job = client.query(\n",
    "    query,\n",
    "    location=\"US\",\n",
    ")\n",
    "\n",
    "owners=[]\n",
    "for idx, row in enumerate(query_job) :\n",
    "    owners.append(row[0])\n",
    "    \n",
    "print(f\"We have total {len(owners)} owners\")"
   ]
  },
  {
   "cell_type": "markdown",
   "metadata": {},
   "source": [
    "## Takes a sample of the owners.\n"
   ]
  },
  {
   "cell_type": "code",
   "execution_count": 50,
   "metadata": {
    "scrolled": true
   },
   "outputs": [
    {
     "name": "stdout",
     "output_type": "stream",
     "text": [
      "20770.0,64450.0,13430.0,48388.0,51668.0,11933.0,51912.0,23821.0,48460.0,48307.0,25262.0,21247.0,47340.0,22325.0,15811.0,15258.0,48609.0,50137.0,15884.0,64959.0,17321.0,12222.0,15930.0,18157.0,34281.0,24706.0,21722.0,49545.0,13405.0,22632.0,15907.0,50744.0,14114.0,19998.0,24432.0,17939.0,49587.0,65306.0,50347.0,65080.0,37365.0,25214.0,19038.0,51011.0,23621.0,64324.0,49003.0,52104.0,25246.0,12567.0,40429.0,64762.0,53826.0,23584.0,45102.0,20984.0,51218.0,21314.0,39531.0,21362.0,44940.0,12765.0,17734.0,23634.0,44366.0,38074.0,22649.0,10298.0,42233.0,52889.0,11055.0,10909.0,44513.0,66118.0,17612.0,12992.0,41257.0,18899.0,19418.0,52036.0,64250.0,24588.0,13715.0,11426.0,14932.0,24674.0,25457.0,13726.0,51217.0,51045.0,16085.0,64943.0,16948.0,44225.0,10887.0,48641.0,10984.0,44646.0,20729.0,17564.0,57235.0,25932.0,50706.0,18774.0,18347.0,50107.0,10104.0,20442.0,20595.0,12462.0,47856.0,24040.0,35765.0,11199.0,51683.0,51556.0,22161.0,13468.0,42401.0,26575.0,50771.0,19526.0,64395.0,13060.0,19701.0,14542.0,56075.0,23646.0,44715.0,21888.0,16172.0,20994.0,13360.0,16516.0,44605.0,24781.0,41204.0,51558.0,30952.0,41504.0,20329.0,46638.0,16127.0,12029.0,13971.0,10905.0,17178.0,51444.0,48462.0,48565.0,40229.0,60763.0,51721.0,15462.0,10652.0,20280.0,15949.0,10613.0,17548.0,17818.0,16415.0,46564.0,65389.0,64265.0,14789.0,21871.0,65003.0,49974.0,46471.0,16182.0,10037.0,40347.0,16918.0,50223.0,14545.0,25180.0,44592.0,24231.0,64586.0,48592.0,53069.0,42238.0,16866.0,14093.0,65072.0,16451.0,51700.0,65078.0,35538.0,65454.0,50266.0,42287.0,50253.0,24550.0,51228.0,23173.0,35775.0,50551.0,14260.0,59713.0,25143.0,16524.0,38614.0,66007.0,23233.0,22163.0,64484.0,19432.0,57569.0,15528.0,52913.0,22924.0,21827.0,60277.0,51823.0,12769.0,44357.0,23619.0,51336.0,15034.0,21460.0,21177.0,16513.0,38650.0,31658.0,20466.0,13648.0,40522.0,20485.0,65762.0,51195.0,10145.0,25120.0,12928.0,64624.0,46705.0,16330.0,43335.0,21197.0,17618.0,59169.0,51794.0,18883.0,49512.0,13035.0,25466.0,49207.0,36635.0,48003.0,22368.0,18221.0,65497.0,66014.0,25292.0,19416.0,13167.0,25644.0,17957.0,50889.0,14894.0,22376.0,17044.0,46413.0,49091.0,17393.0,20751.0,64300.0,63466.0,18991.0,11712.0,48420.0,20456.0,52287.0,50078.0,27242.0,13570.0,22753.0,16549.0,17142.0,18841.0,39604.0,17018.0,10071.0,24903.0,49815.0,16004.0,23611.0,43130.0,12434.0,66104.0,21802.0,13494.0,11079.0,37487.0,31818.0,15976.0,10783.0,23655.0,48529.0,42231.0,16548.0,51902.0,10110.0,18334.0,49120.0,16773.0,12978.0,64947.0,14575.0,50647.0,52285.0,17598.0,20805.0,42304.0,18636.0,17962.0,44218.0,31110.0,49314.0,27672.0,12892.0,22461.0,51028.0,19350.0,48844.0,19788.0,34250.0,24481.0,65360.0,15689.0,50655.0,12227.0,25033.0,19388.0,48046.0,18352.0,64278.0,15086.0,36072.0,10065.0,23503.0,14680.0,13171.0,17530.0,14395.0,16334.0,13712.0,23337.0,21864.0,12862.0,16027.0,50696.0,47779.0,12236.0,23649.0,25436.0,64895.0,24585.0,36790.0,52253.0,52741.0,30282.0,15246.0,16008.0,24250.0,50450.0,52085.0,44902.0,51585.0,48089.0,38780.0,35366.0,20040.0,12468.0,19450.0,13172.0,18823.0,21960.0,21321.0,13812.0,20073.0,49442.0,10923.0,48947.0,23627.0,13317.0,49159.0,65750.0,12452.0,25225.0,51343.0,17202.0,65025.0,12477.0,52700.0,14697.0,20728.0,23986.0,16969.0,24940.0,12271.0,49163.0,13154.0,10404.0,15610.0,24451.0,52327.0,51623.0,51615.0,25588.0,66173.0,19762.0,24816.0,17235.0,18473.0,50165.0,65509.0,51924.0,52208.0,15355.0,16791.0,17078.0,15496.0,18677.0,50362.0,51915.0,47293.0,19919.0,50058.0,10636.0,20917.0,13146.0,38069.0,43071.0,48076.0,17062.0,52898.0,37221.0,17012.0,19361.0,21881.0,51182.0,49812.0,52289.0,20471.0,15644.0,34759.0,19638.0,20384.0,10503.0,13301.0,18583.0,22122.0,64262.0,52662.0,59496.0,47445.0,51289.0,44659.0,51601.0,20084.0,50153.0,47650.0,33974.0,22971.0,23664.0,25688.0,48342.0,31578.0,10956.0,10432.0,15513.0,22978.0,51891.0,19921.0,64290.0,16498.0,46568.0,18481.0,11360.0,18588.0,39268.0,23616.0,12366.0,51594.0,49431.0,51160.0,51491.0,19222.0,14664.0,56606.0,20710.0,46534.0,52481.0,20410.0,18528.0,49802.0,50883.0,59230.0,23676.0\n"
     ]
    }
   ],
   "source": [
    "import random\n",
    "random.seed(len(owners))\n",
    "sample_owners= random.sample(owners,500)\n",
    "sample_owners =[str(owner) for owner in sample_owners]\n",
    "sample_owners_str=\",\".join(sample_owners)\n",
    "print(sample_owners_str)"
   ]
  },
  {
   "cell_type": "markdown",
   "metadata": {},
   "source": [
    "## Extracts all records "
   ]
  },
  {
   "cell_type": "code",
   "execution_count": 51,
   "metadata": {},
   "outputs": [],
   "source": [
    "sample_owner_list_str=\",\".join(sample_owners)\n",
    "query = (\n",
    "    \"SELECT * \"\n",
    "    \"FROM `hong-wedge.transactions.transArchive_*` \"\n",
    "    \"WHERE card_no in (\"+ sample_owners_str +\")\"\n",
    ")\n",
    "query_job = client.query(\n",
    "    query,\n",
    "    location=\"US\",\n",
    ")\n",
    "\n",
    "fields= [\"datetime\",\"register_no\",\"emp_no\",\"trans_no\",\"upc\",\"description\",\"trans_type\",\"trans_subtype\",\"trans_status\",\"department\"\n",
    "         ,\"quantity\",\"scale\",\"cost\",\"unitPrice\",\"total\",\"regPrice\",\"altPrice\",\"tax\",\"taxexempt\",\"foodstamp\",\"wicable\",\"discount\"\n",
    "         ,\"memDiscount\",\"discountable\",\"discounttype\",\"voided\",\"percentDiscount\",\"ItemQtty\",\"volDiscType\",\"volume\",\"VolSpecial\"\n",
    "         ,\"mixMatch\",\"matched\",\"memType\",\"staff\",\"numflag\",\"itemstatus\",\"tenderstatus\",\"charflag\",\"varflag\",\"batchHeaderID\",\"local\"\n",
    "         ,\"organic\",\"display\",\"receipt\",\"card_no\",\"store\",\"branch\",\"branch\",\"trans_id\"]\n",
    "\n",
    "with open(\"sample_owners_records.csv\", \"w\",encoding=\"utf-8\") as text_file:\n",
    "    text_file.write(\",\".join(fields)+\"\\n\")\n",
    "    for idx, row in enumerate(query_job) :\n",
    "        record=[]\n",
    "        for i in range(0,50):\n",
    "            record.append(str(row[i]))\n",
    "        output=\",\".join(record)\n",
    "        text_file.write(output+\"\\n\")"
   ]
  }
 ],
 "metadata": {
  "kernelspec": {
   "display_name": "Python 3",
   "language": "python",
   "name": "python3"
  },
  "language_info": {
   "codemirror_mode": {
    "name": "ipython",
    "version": 3
   },
   "file_extension": ".py",
   "mimetype": "text/x-python",
   "name": "python",
   "nbconvert_exporter": "python",
   "pygments_lexer": "ipython3",
   "version": "3.8.3"
  }
 },
 "nbformat": 4,
 "nbformat_minor": 4
}
